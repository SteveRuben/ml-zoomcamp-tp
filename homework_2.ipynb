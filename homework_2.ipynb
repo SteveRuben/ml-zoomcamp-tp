{
 "cells": [
  {
   "cell_type": "code",
   "execution_count": 1,
   "id": "aa88e358-b5a6-4a30-93c3-6c8ec81e5354",
   "metadata": {},
   "outputs": [],
   "source": [
    "import numpy as np\n",
    "import pandas as pd\n"
   ]
  },
  {
   "cell_type": "code",
   "execution_count": 2,
   "id": "1051d16d-bbc5-4212-9cfc-50b8e0784471",
   "metadata": {},
   "outputs": [],
   "source": [
    "data = pd.read_csv(\"https://raw.githubusercontent.com/alexeygrigorev/datasets/master/course_lead_scoring.csv\")"
   ]
  },
  {
   "cell_type": "code",
   "execution_count": 4,
   "id": "930ba53a-2726-42cb-a4f5-bbe13f219f9f",
   "metadata": {},
   "outputs": [
    {
     "name": "stdout",
     "output_type": "stream",
     "text": [
      "lead_source\n",
      "0        paid_ads\n",
      "1    social_media\n",
      "2          events\n",
      "3        paid_ads\n",
      "4        referral\n",
      "Name: lead_source, dtype: object\n",
      "\n",
      "industry\n",
      "0           NaN\n",
      "1        retail\n",
      "2    healthcare\n",
      "3        retail\n",
      "4     education\n",
      "Name: industry, dtype: object\n",
      "\n",
      "number_of_courses_viewed\n",
      "0    1\n",
      "1    1\n",
      "2    5\n",
      "3    2\n",
      "4    3\n",
      "Name: number_of_courses_viewed, dtype: int64\n",
      "\n",
      "annual_income\n",
      "0    79450.0\n",
      "1    46992.0\n",
      "2    78796.0\n",
      "3    83843.0\n",
      "4    85012.0\n",
      "Name: annual_income, dtype: float64\n",
      "\n",
      "employment_status\n",
      "0       unemployed\n",
      "1         employed\n",
      "2       unemployed\n",
      "3              NaN\n",
      "4    self_employed\n",
      "Name: employment_status, dtype: object\n",
      "\n",
      "location\n",
      "0    south_america\n",
      "1    south_america\n",
      "2        australia\n",
      "3        australia\n",
      "4           europe\n",
      "Name: location, dtype: object\n",
      "\n",
      "interaction_count\n",
      "0    4\n",
      "1    1\n",
      "2    3\n",
      "3    1\n",
      "4    3\n",
      "Name: interaction_count, dtype: int64\n",
      "\n",
      "lead_score\n",
      "0    0.94\n",
      "1    0.80\n",
      "2    0.69\n",
      "3    0.87\n",
      "4    0.62\n",
      "Name: lead_score, dtype: float64\n",
      "\n",
      "converted\n",
      "0    1\n",
      "1    0\n",
      "2    1\n",
      "3    0\n",
      "4    1\n",
      "Name: converted, dtype: int64\n",
      "\n"
     ]
    }
   ],
   "source": [
    "for col in data.columns:\n",
    "    print(col)\n",
    "    print(data[col].head())\n",
    "    print()"
   ]
  },
  {
   "cell_type": "code",
   "execution_count": 6,
   "id": "f580e273-14d5-4c72-8c58-3b39bc5d8fc9",
   "metadata": {},
   "outputs": [
    {
     "data": {
      "text/plain": [
       "0    retail\n",
       "Name: industry, dtype: object"
      ]
     },
     "execution_count": 6,
     "metadata": {},
     "output_type": "execute_result"
    }
   ],
   "source": [
    "data['industry'].mode()"
   ]
  },
  {
   "cell_type": "code",
   "execution_count": null,
   "id": "c864d66a-149b-44fb-818e-5c335ba54ac9",
   "metadata": {},
   "outputs": [],
   "source": []
  }
 ],
 "metadata": {
  "kernelspec": {
   "display_name": "Python 3 (ipykernel)",
   "language": "python",
   "name": "python3"
  },
  "language_info": {
   "codemirror_mode": {
    "name": "ipython",
    "version": 3
   },
   "file_extension": ".py",
   "mimetype": "text/x-python",
   "name": "python",
   "nbconvert_exporter": "python",
   "pygments_lexer": "ipython3",
   "version": "3.11.13"
  }
 },
 "nbformat": 4,
 "nbformat_minor": 5
}
